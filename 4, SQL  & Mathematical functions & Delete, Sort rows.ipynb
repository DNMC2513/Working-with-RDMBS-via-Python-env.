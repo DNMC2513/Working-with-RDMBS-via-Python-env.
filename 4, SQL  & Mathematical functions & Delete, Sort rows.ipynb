{
 "cells": [
  {
   "cell_type": "markdown",
   "id": "17f18b5d-cfeb-42fa-8617-45a7b741c36d",
   "metadata": {},
   "source": [
    "# 4, SQL _ Mathematical functions _ Delete, Sort rows\n",
    "----\n",
    "## OUTLINE:\n",
    "- Sum of rows: SUM()\n",
    "- Delete specified rows: DELETE FROM\n",
    "- Sort rows: ORDER BY\n",
    "- Average of rows: AVG()\n",
    "- Filter out: WHERE + Nested statements\n",
    "- Min and max values: MIN() MAX()\n",
    "\n"
   ]
  },
  {
   "cell_type": "code",
   "execution_count": 1,
   "id": "bb9a206e-83b4-458f-94d3-d0b48c474246",
   "metadata": {},
   "outputs": [],
   "source": [
    "%load_ext sql\n",
    "#the magic command to load the SQL extension\n",
    "\n",
    "%sql sqlite:///testdatabase.db\n",
    "#connect and create a db on your computer if it does not exist\""
   ]
  },
  {
   "cell_type": "markdown",
   "id": "71427410-09d9-40f9-9775-ddd3c4e63e13",
   "metadata": {},
   "source": [
    "> Take a look at our table: Indian_all_2021"
   ]
  },
  {
   "cell_type": "code",
   "execution_count": 2,
   "id": "734c1147-9594-405a-a666-cae1fee89b3a",
   "metadata": {
    "collapsed": true,
    "jupyter": {
     "outputs_hidden": true
    },
    "tags": []
   },
   "outputs": [
    {
     "name": "stdout",
     "output_type": "stream",
     "text": [
      " * sqlite:///testdatabase.db\n",
      "Done.\n"
     ]
    },
    {
     "data": {
      "text/html": [
       "<table>\n",
       "    <tr>\n",
       "        <th>YEAR</th>\n",
       "        <th>ETHNIC_GROUP</th>\n",
       "        <th>GENDER</th>\n",
       "        <th>AGE</th>\n",
       "        <th>VALUE</th>\n",
       "    </tr>\n",
       "    <tr>\n",
       "        <td>2021</td>\n",
       "        <td>Indians</td>\n",
       "        <td>All genders</td>\n",
       "        <td>0 - 4 Years</td>\n",
       "        <td>12296</td>\n",
       "    </tr>\n",
       "    <tr>\n",
       "        <td>2021</td>\n",
       "        <td>Indians</td>\n",
       "        <td>All genders</td>\n",
       "        <td>10 - 14 Years</td>\n",
       "        <td>14964</td>\n",
       "    </tr>\n",
       "    <tr>\n",
       "        <td>2021</td>\n",
       "        <td>Indians</td>\n",
       "        <td>All genders</td>\n",
       "        <td>15 - 19 Years</td>\n",
       "        <td>17096</td>\n",
       "    </tr>\n",
       "    <tr>\n",
       "        <td>2021</td>\n",
       "        <td>Indians</td>\n",
       "        <td>All genders</td>\n",
       "        <td>20 - 24 Years</td>\n",
       "        <td>18891</td>\n",
       "    </tr>\n",
       "    <tr>\n",
       "        <td>2021</td>\n",
       "        <td>Indians</td>\n",
       "        <td>All genders</td>\n",
       "        <td>25 - 29 Years</td>\n",
       "        <td>19448</td>\n",
       "    </tr>\n",
       "    <tr>\n",
       "        <td>2021</td>\n",
       "        <td>Indians</td>\n",
       "        <td>All genders</td>\n",
       "        <td>30 - 34 Years</td>\n",
       "        <td>18580</td>\n",
       "    </tr>\n",
       "    <tr>\n",
       "        <td>2021</td>\n",
       "        <td>Indians</td>\n",
       "        <td>All genders</td>\n",
       "        <td>35 - 39 Years</td>\n",
       "        <td>16778</td>\n",
       "    </tr>\n",
       "    <tr>\n",
       "        <td>2021</td>\n",
       "        <td>Indians</td>\n",
       "        <td>All genders</td>\n",
       "        <td>40 - 44 Years</td>\n",
       "        <td>16133</td>\n",
       "    </tr>\n",
       "    <tr>\n",
       "        <td>2021</td>\n",
       "        <td>Indians</td>\n",
       "        <td>All genders</td>\n",
       "        <td>45 - 49 Years</td>\n",
       "        <td>17818</td>\n",
       "    </tr>\n",
       "    <tr>\n",
       "        <td>2021</td>\n",
       "        <td>Indians</td>\n",
       "        <td>All genders</td>\n",
       "        <td>5 - 9 Years</td>\n",
       "        <td>13175</td>\n",
       "    </tr>\n",
       "    <tr>\n",
       "        <td>2021</td>\n",
       "        <td>Indians</td>\n",
       "        <td>All genders</td>\n",
       "        <td>50 - 54 Years</td>\n",
       "        <td>19290</td>\n",
       "    </tr>\n",
       "    <tr>\n",
       "        <td>2021</td>\n",
       "        <td>Indians</td>\n",
       "        <td>All genders</td>\n",
       "        <td>55 - 59 Years</td>\n",
       "        <td>20736</td>\n",
       "    </tr>\n",
       "    <tr>\n",
       "        <td>2021</td>\n",
       "        <td>Indians</td>\n",
       "        <td>All genders</td>\n",
       "        <td>60 - 64 Years</td>\n",
       "        <td>18867</td>\n",
       "    </tr>\n",
       "    <tr>\n",
       "        <td>2021</td>\n",
       "        <td>Indians</td>\n",
       "        <td>All genders</td>\n",
       "        <td>65 - 69 Years</td>\n",
       "        <td>14059</td>\n",
       "    </tr>\n",
       "    <tr>\n",
       "        <td>2021</td>\n",
       "        <td>Indians</td>\n",
       "        <td>All genders</td>\n",
       "        <td>65 Years &amp; Over</td>\n",
       "        <td>34889</td>\n",
       "    </tr>\n",
       "    <tr>\n",
       "        <td>2021</td>\n",
       "        <td>Indians</td>\n",
       "        <td>All genders</td>\n",
       "        <td>70 - 74 Years</td>\n",
       "        <td>10170</td>\n",
       "    </tr>\n",
       "    <tr>\n",
       "        <td>2021</td>\n",
       "        <td>Indians</td>\n",
       "        <td>All genders</td>\n",
       "        <td>70 Years &amp; Over</td>\n",
       "        <td>20830</td>\n",
       "    </tr>\n",
       "    <tr>\n",
       "        <td>2021</td>\n",
       "        <td>Indians</td>\n",
       "        <td>All genders</td>\n",
       "        <td>75 - 79 Years</td>\n",
       "        <td>4211</td>\n",
       "    </tr>\n",
       "    <tr>\n",
       "        <td>2021</td>\n",
       "        <td>Indians</td>\n",
       "        <td>All genders</td>\n",
       "        <td>75 Years &amp; Over</td>\n",
       "        <td>10660</td>\n",
       "    </tr>\n",
       "    <tr>\n",
       "        <td>2021</td>\n",
       "        <td>Indians</td>\n",
       "        <td>All genders</td>\n",
       "        <td>80 - 84 Years</td>\n",
       "        <td>3289</td>\n",
       "    </tr>\n",
       "    <tr>\n",
       "        <td>2021</td>\n",
       "        <td>Indians</td>\n",
       "        <td>All genders</td>\n",
       "        <td>80 Years &amp; Over</td>\n",
       "        <td>6449</td>\n",
       "    </tr>\n",
       "    <tr>\n",
       "        <td>2021</td>\n",
       "        <td>Indians</td>\n",
       "        <td>All genders</td>\n",
       "        <td>85 - 89 Years</td>\n",
       "        <td>1905</td>\n",
       "    </tr>\n",
       "    <tr>\n",
       "        <td>2021</td>\n",
       "        <td>Indians</td>\n",
       "        <td>All genders</td>\n",
       "        <td>85 Years &amp; Over</td>\n",
       "        <td>3160</td>\n",
       "    </tr>\n",
       "    <tr>\n",
       "        <td>2021</td>\n",
       "        <td>Indians</td>\n",
       "        <td>All genders</td>\n",
       "        <td>90 Years &amp; Over</td>\n",
       "        <td>1255</td>\n",
       "    </tr>\n",
       "    <tr>\n",
       "        <td>2021</td>\n",
       "        <td>Indians</td>\n",
       "        <td>All genders</td>\n",
       "        <td>All ages</td>\n",
       "        <td>258961</td>\n",
       "    </tr>\n",
       "</table>"
      ],
      "text/plain": [
       "[(2021, 'Indians', 'All genders', '0 - 4 Years', 12296),\n",
       " (2021, 'Indians', 'All genders', '10 - 14 Years', 14964),\n",
       " (2021, 'Indians', 'All genders', '15 - 19 Years', 17096),\n",
       " (2021, 'Indians', 'All genders', '20 - 24 Years', 18891),\n",
       " (2021, 'Indians', 'All genders', '25 - 29 Years', 19448),\n",
       " (2021, 'Indians', 'All genders', '30 - 34 Years', 18580),\n",
       " (2021, 'Indians', 'All genders', '35 - 39 Years', 16778),\n",
       " (2021, 'Indians', 'All genders', '40 - 44 Years', 16133),\n",
       " (2021, 'Indians', 'All genders', '45 - 49 Years', 17818),\n",
       " (2021, 'Indians', 'All genders', '5 - 9 Years', 13175),\n",
       " (2021, 'Indians', 'All genders', '50 - 54 Years', 19290),\n",
       " (2021, 'Indians', 'All genders', '55 - 59 Years', 20736),\n",
       " (2021, 'Indians', 'All genders', '60 - 64 Years', 18867),\n",
       " (2021, 'Indians', 'All genders', '65 - 69 Years', 14059),\n",
       " (2021, 'Indians', 'All genders', '65 Years & Over', 34889),\n",
       " (2021, 'Indians', 'All genders', '70 - 74 Years', 10170),\n",
       " (2021, 'Indians', 'All genders', '70 Years & Over', 20830),\n",
       " (2021, 'Indians', 'All genders', '75 - 79 Years', 4211),\n",
       " (2021, 'Indians', 'All genders', '75 Years & Over', 10660),\n",
       " (2021, 'Indians', 'All genders', '80 - 84 Years', 3289),\n",
       " (2021, 'Indians', 'All genders', '80 Years & Over', 6449),\n",
       " (2021, 'Indians', 'All genders', '85 - 89 Years', 1905),\n",
       " (2021, 'Indians', 'All genders', '85 Years & Over', 3160),\n",
       " (2021, 'Indians', 'All genders', '90 Years & Over', 1255),\n",
       " (2021, 'Indians', 'All genders', 'All ages', 258961)]"
      ]
     },
     "execution_count": 2,
     "metadata": {},
     "output_type": "execute_result"
    }
   ],
   "source": [
    "%%sql\n",
    "SELECT * \n",
    "FROM Indian_all_2021\n"
   ]
  },
  {
   "cell_type": "markdown",
   "id": "18416ba5-69d1-4dce-908f-6fa32b1b457e",
   "metadata": {},
   "source": [
    "### a. Check if the SUM of all genders of all ages equate the total value:"
   ]
  },
  {
   "cell_type": "code",
   "execution_count": 3,
   "id": "96203e47-5a5d-487a-be0e-d87d76796571",
   "metadata": {},
   "outputs": [
    {
     "name": "stdout",
     "output_type": "stream",
     "text": [
      " * sqlite:///testdatabase.db\n",
      "Done.\n"
     ]
    },
    {
     "data": {
      "text/html": [
       "<table>\n",
       "    <tr>\n",
       "        <th>the_stated_sum</th>\n",
       "    </tr>\n",
       "    <tr>\n",
       "        <td>258961</td>\n",
       "    </tr>\n",
       "</table>"
      ],
      "text/plain": [
       "[(258961,)]"
      ]
     },
     "execution_count": 3,
     "metadata": {},
     "output_type": "execute_result"
    }
   ],
   "source": [
    "%%sql\n",
    "SELECT VALUE AS the_stated_sum\n",
    "FROM Indian_all_2021\n",
    "WHERE AGE LIKE 'All%';\n",
    "\n"
   ]
  },
  {
   "cell_type": "code",
   "execution_count": 4,
   "id": "0669cc05-9355-4b96-a11a-f0a62fbd5ef5",
   "metadata": {},
   "outputs": [
    {
     "name": "stdout",
     "output_type": "stream",
     "text": [
      " * sqlite:///testdatabase.db\n",
      "Done.\n"
     ]
    },
    {
     "data": {
      "text/html": [
       "<table>\n",
       "    <tr>\n",
       "        <th>the_calculated_sum</th>\n",
       "    </tr>\n",
       "    <tr>\n",
       "        <td>334949</td>\n",
       "    </tr>\n",
       "</table>"
      ],
      "text/plain": [
       "[(334949,)]"
      ]
     },
     "execution_count": 4,
     "metadata": {},
     "output_type": "execute_result"
    }
   ],
   "source": [
    "%%sql\n",
    "SELECT SUM(VALUE) AS the_calculated_sum\n",
    "FROM Indian_all_2021\n",
    "WHERE AGE NOT LIKE 'All%';"
   ]
  },
  {
   "cell_type": "markdown",
   "id": "5c0c1a87-8053-432f-a356-9dd2ee32e016",
   "metadata": {},
   "source": [
    ">The calculated sum is way bigger than the stated sum within the table. Hence, we can conclude that the data is erroneous."
   ]
  },
  {
   "cell_type": "markdown",
   "id": "d1352bf0-ae83-4a76-a8a5-31fba2176660",
   "metadata": {},
   "source": [
    "> However, as the data serves only for practice, let's stick to it for a while.\n",
    "In this notebook, we will work on the table Indian_all_2021.\n"
   ]
  },
  {
   "cell_type": "markdown",
   "id": "517eb4c6-9256-4b07-a9e9-a4b444f44854",
   "metadata": {},
   "source": [
    "- Before moving on to the next step, let's delete all rows associated with the values: 'All genders', 'All ages' since they are of no use.\n",
    "\n",
    "### b. Delete specified rows:\n",
    "```sql\n",
    "DELETE FROM tab_name\n",
    "WHERE <condition>\n",
    "```"
   ]
  },
  {
   "cell_type": "code",
   "execution_count": 5,
   "id": "6658f9b9-977b-464c-943c-7bcee714c618",
   "metadata": {},
   "outputs": [
    {
     "name": "stdout",
     "output_type": "stream",
     "text": [
      " * sqlite:///testdatabase.db\n",
      "1 rows affected.\n",
      "1 rows affected.\n",
      "1 rows affected.\n"
     ]
    },
    {
     "data": {
      "text/plain": [
       "[]"
      ]
     },
     "execution_count": 5,
     "metadata": {},
     "output_type": "execute_result"
    }
   ],
   "source": [
    "%%sql\n",
    "DELETE FROM Indian_all_2021\n",
    "WHERE GENDER LIKE 'A%' \n",
    "AND AGE LIKE 'A%';\n",
    "\n",
    "DELETE FROM Indian_male_2021\n",
    "WHERE AGE LIKE 'A%';\n",
    "\n",
    "DELETE FROM Indian_female_2021\n",
    "WHERE AGE LIKE 'A%';"
   ]
  },
  {
   "cell_type": "markdown",
   "id": "9e41b24f-b46e-4208-9b88-7458c8439448",
   "metadata": {},
   "source": [
    "### c. Sort all the rows within the table:\n",
    "```sql\n",
    "SELECT *\n",
    "FROM table_name\n",
    "ORDER BY col1 ASC, col2 DESC,...\n",
    "```\n",
    "- We can sort the table rows bases on a single or multiple columns.\n",
    "- `ASC` represents ascending order\n",
    "- `DESC` represents descending order"
   ]
  },
  {
   "cell_type": "code",
   "execution_count": 6,
   "id": "33eb3d23-a1d5-4991-94e1-ac7ee50fb97c",
   "metadata": {
    "collapsed": true,
    "jupyter": {
     "outputs_hidden": true
    },
    "tags": []
   },
   "outputs": [
    {
     "name": "stdout",
     "output_type": "stream",
     "text": [
      " * sqlite:///testdatabase.db\n",
      "Done.\n"
     ]
    },
    {
     "data": {
      "text/html": [
       "<table>\n",
       "    <tr>\n",
       "        <th>YEAR</th>\n",
       "        <th>ETHNIC_GROUP</th>\n",
       "        <th>GENDER</th>\n",
       "        <th>AGE</th>\n",
       "        <th>VALUE</th>\n",
       "    </tr>\n",
       "    <tr>\n",
       "        <td>2021</td>\n",
       "        <td>Indians</td>\n",
       "        <td>All genders</td>\n",
       "        <td>90 Years &amp; Over</td>\n",
       "        <td>1255</td>\n",
       "    </tr>\n",
       "    <tr>\n",
       "        <td>2021</td>\n",
       "        <td>Indians</td>\n",
       "        <td>All genders</td>\n",
       "        <td>85 - 89 Years</td>\n",
       "        <td>1905</td>\n",
       "    </tr>\n",
       "    <tr>\n",
       "        <td>2021</td>\n",
       "        <td>Indians</td>\n",
       "        <td>All genders</td>\n",
       "        <td>85 Years &amp; Over</td>\n",
       "        <td>3160</td>\n",
       "    </tr>\n",
       "    <tr>\n",
       "        <td>2021</td>\n",
       "        <td>Indians</td>\n",
       "        <td>All genders</td>\n",
       "        <td>80 - 84 Years</td>\n",
       "        <td>3289</td>\n",
       "    </tr>\n",
       "    <tr>\n",
       "        <td>2021</td>\n",
       "        <td>Indians</td>\n",
       "        <td>All genders</td>\n",
       "        <td>75 - 79 Years</td>\n",
       "        <td>4211</td>\n",
       "    </tr>\n",
       "    <tr>\n",
       "        <td>2021</td>\n",
       "        <td>Indians</td>\n",
       "        <td>All genders</td>\n",
       "        <td>80 Years &amp; Over</td>\n",
       "        <td>6449</td>\n",
       "    </tr>\n",
       "    <tr>\n",
       "        <td>2021</td>\n",
       "        <td>Indians</td>\n",
       "        <td>All genders</td>\n",
       "        <td>70 - 74 Years</td>\n",
       "        <td>10170</td>\n",
       "    </tr>\n",
       "    <tr>\n",
       "        <td>2021</td>\n",
       "        <td>Indians</td>\n",
       "        <td>All genders</td>\n",
       "        <td>75 Years &amp; Over</td>\n",
       "        <td>10660</td>\n",
       "    </tr>\n",
       "    <tr>\n",
       "        <td>2021</td>\n",
       "        <td>Indians</td>\n",
       "        <td>All genders</td>\n",
       "        <td>0 - 4 Years</td>\n",
       "        <td>12296</td>\n",
       "    </tr>\n",
       "    <tr>\n",
       "        <td>2021</td>\n",
       "        <td>Indians</td>\n",
       "        <td>All genders</td>\n",
       "        <td>5 - 9 Years</td>\n",
       "        <td>13175</td>\n",
       "    </tr>\n",
       "    <tr>\n",
       "        <td>2021</td>\n",
       "        <td>Indians</td>\n",
       "        <td>All genders</td>\n",
       "        <td>65 - 69 Years</td>\n",
       "        <td>14059</td>\n",
       "    </tr>\n",
       "    <tr>\n",
       "        <td>2021</td>\n",
       "        <td>Indians</td>\n",
       "        <td>All genders</td>\n",
       "        <td>10 - 14 Years</td>\n",
       "        <td>14964</td>\n",
       "    </tr>\n",
       "    <tr>\n",
       "        <td>2021</td>\n",
       "        <td>Indians</td>\n",
       "        <td>All genders</td>\n",
       "        <td>40 - 44 Years</td>\n",
       "        <td>16133</td>\n",
       "    </tr>\n",
       "    <tr>\n",
       "        <td>2021</td>\n",
       "        <td>Indians</td>\n",
       "        <td>All genders</td>\n",
       "        <td>35 - 39 Years</td>\n",
       "        <td>16778</td>\n",
       "    </tr>\n",
       "    <tr>\n",
       "        <td>2021</td>\n",
       "        <td>Indians</td>\n",
       "        <td>All genders</td>\n",
       "        <td>15 - 19 Years</td>\n",
       "        <td>17096</td>\n",
       "    </tr>\n",
       "    <tr>\n",
       "        <td>2021</td>\n",
       "        <td>Indians</td>\n",
       "        <td>All genders</td>\n",
       "        <td>45 - 49 Years</td>\n",
       "        <td>17818</td>\n",
       "    </tr>\n",
       "    <tr>\n",
       "        <td>2021</td>\n",
       "        <td>Indians</td>\n",
       "        <td>All genders</td>\n",
       "        <td>30 - 34 Years</td>\n",
       "        <td>18580</td>\n",
       "    </tr>\n",
       "    <tr>\n",
       "        <td>2021</td>\n",
       "        <td>Indians</td>\n",
       "        <td>All genders</td>\n",
       "        <td>60 - 64 Years</td>\n",
       "        <td>18867</td>\n",
       "    </tr>\n",
       "    <tr>\n",
       "        <td>2021</td>\n",
       "        <td>Indians</td>\n",
       "        <td>All genders</td>\n",
       "        <td>20 - 24 Years</td>\n",
       "        <td>18891</td>\n",
       "    </tr>\n",
       "    <tr>\n",
       "        <td>2021</td>\n",
       "        <td>Indians</td>\n",
       "        <td>All genders</td>\n",
       "        <td>50 - 54 Years</td>\n",
       "        <td>19290</td>\n",
       "    </tr>\n",
       "    <tr>\n",
       "        <td>2021</td>\n",
       "        <td>Indians</td>\n",
       "        <td>All genders</td>\n",
       "        <td>25 - 29 Years</td>\n",
       "        <td>19448</td>\n",
       "    </tr>\n",
       "    <tr>\n",
       "        <td>2021</td>\n",
       "        <td>Indians</td>\n",
       "        <td>All genders</td>\n",
       "        <td>55 - 59 Years</td>\n",
       "        <td>20736</td>\n",
       "    </tr>\n",
       "    <tr>\n",
       "        <td>2021</td>\n",
       "        <td>Indians</td>\n",
       "        <td>All genders</td>\n",
       "        <td>70 Years &amp; Over</td>\n",
       "        <td>20830</td>\n",
       "    </tr>\n",
       "    <tr>\n",
       "        <td>2021</td>\n",
       "        <td>Indians</td>\n",
       "        <td>All genders</td>\n",
       "        <td>65 Years &amp; Over</td>\n",
       "        <td>34889</td>\n",
       "    </tr>\n",
       "</table>"
      ],
      "text/plain": [
       "[(2021, 'Indians', 'All genders', '90 Years & Over', 1255),\n",
       " (2021, 'Indians', 'All genders', '85 - 89 Years', 1905),\n",
       " (2021, 'Indians', 'All genders', '85 Years & Over', 3160),\n",
       " (2021, 'Indians', 'All genders', '80 - 84 Years', 3289),\n",
       " (2021, 'Indians', 'All genders', '75 - 79 Years', 4211),\n",
       " (2021, 'Indians', 'All genders', '80 Years & Over', 6449),\n",
       " (2021, 'Indians', 'All genders', '70 - 74 Years', 10170),\n",
       " (2021, 'Indians', 'All genders', '75 Years & Over', 10660),\n",
       " (2021, 'Indians', 'All genders', '0 - 4 Years', 12296),\n",
       " (2021, 'Indians', 'All genders', '5 - 9 Years', 13175),\n",
       " (2021, 'Indians', 'All genders', '65 - 69 Years', 14059),\n",
       " (2021, 'Indians', 'All genders', '10 - 14 Years', 14964),\n",
       " (2021, 'Indians', 'All genders', '40 - 44 Years', 16133),\n",
       " (2021, 'Indians', 'All genders', '35 - 39 Years', 16778),\n",
       " (2021, 'Indians', 'All genders', '15 - 19 Years', 17096),\n",
       " (2021, 'Indians', 'All genders', '45 - 49 Years', 17818),\n",
       " (2021, 'Indians', 'All genders', '30 - 34 Years', 18580),\n",
       " (2021, 'Indians', 'All genders', '60 - 64 Years', 18867),\n",
       " (2021, 'Indians', 'All genders', '20 - 24 Years', 18891),\n",
       " (2021, 'Indians', 'All genders', '50 - 54 Years', 19290),\n",
       " (2021, 'Indians', 'All genders', '25 - 29 Years', 19448),\n",
       " (2021, 'Indians', 'All genders', '55 - 59 Years', 20736),\n",
       " (2021, 'Indians', 'All genders', '70 Years & Over', 20830),\n",
       " (2021, 'Indians', 'All genders', '65 Years & Over', 34889)]"
      ]
     },
     "execution_count": 6,
     "metadata": {},
     "output_type": "execute_result"
    }
   ],
   "source": [
    "%%sql\n",
    "SELECT *\n",
    "FROM Indian_all_2021\n",
    "ORDER BY VALUE ASC"
   ]
  },
  {
   "cell_type": "markdown",
   "id": "cead68b8-dc1b-4a5d-9a22-b365b944b71f",
   "metadata": {},
   "source": [
    "### d. Find the average value of all age groups:"
   ]
  },
  {
   "cell_type": "code",
   "execution_count": 7,
   "id": "61cc1de0-a560-4141-9c8a-b8b4f2178364",
   "metadata": {},
   "outputs": [
    {
     "name": "stdout",
     "output_type": "stream",
     "text": [
      " * sqlite:///testdatabase.db\n",
      "Done.\n"
     ]
    },
    {
     "data": {
      "text/html": [
       "<table>\n",
       "    <tr>\n",
       "        <th>average</th>\n",
       "    </tr>\n",
       "    <tr>\n",
       "        <td>13956.208333333334</td>\n",
       "    </tr>\n",
       "</table>"
      ],
      "text/plain": [
       "[(13956.208333333334,)]"
      ]
     },
     "execution_count": 7,
     "metadata": {},
     "output_type": "execute_result"
    }
   ],
   "source": [
    "%%sql\n",
    "SELECT AVG(VALUE) AS average\n",
    "FROM Indian_all_2021\n"
   ]
  },
  {
   "cell_type": "markdown",
   "id": "0866cfe6-b074-48f4-adff-ac80f70f71ec",
   "metadata": {},
   "source": [
    "### e. Filter out age groups that have value smaller than the average:"
   ]
  },
  {
   "cell_type": "code",
   "execution_count": 8,
   "id": "d769b51a-2bed-4344-b0bb-ac604080ba5b",
   "metadata": {},
   "outputs": [
    {
     "name": "stdout",
     "output_type": "stream",
     "text": [
      " * sqlite:///testdatabase.db\n",
      "Done.\n"
     ]
    },
    {
     "data": {
      "text/html": [
       "<table>\n",
       "    <tr>\n",
       "        <th>below_average</th>\n",
       "    </tr>\n",
       "    <tr>\n",
       "        <td>0 - 4 Years</td>\n",
       "    </tr>\n",
       "    <tr>\n",
       "        <td>5 - 9 Years</td>\n",
       "    </tr>\n",
       "    <tr>\n",
       "        <td>70 - 74 Years</td>\n",
       "    </tr>\n",
       "    <tr>\n",
       "        <td>75 - 79 Years</td>\n",
       "    </tr>\n",
       "    <tr>\n",
       "        <td>75 Years &amp; Over</td>\n",
       "    </tr>\n",
       "    <tr>\n",
       "        <td>80 - 84 Years</td>\n",
       "    </tr>\n",
       "    <tr>\n",
       "        <td>80 Years &amp; Over</td>\n",
       "    </tr>\n",
       "    <tr>\n",
       "        <td>85 - 89 Years</td>\n",
       "    </tr>\n",
       "    <tr>\n",
       "        <td>85 Years &amp; Over</td>\n",
       "    </tr>\n",
       "    <tr>\n",
       "        <td>90 Years &amp; Over</td>\n",
       "    </tr>\n",
       "</table>"
      ],
      "text/plain": [
       "[('0 - 4 Years',),\n",
       " ('5 - 9 Years',),\n",
       " ('70 - 74 Years',),\n",
       " ('75 - 79 Years',),\n",
       " ('75 Years & Over',),\n",
       " ('80 - 84 Years',),\n",
       " ('80 Years & Over',),\n",
       " ('85 - 89 Years',),\n",
       " ('85 Years & Over',),\n",
       " ('90 Years & Over',)]"
      ]
     },
     "execution_count": 8,
     "metadata": {},
     "output_type": "execute_result"
    }
   ],
   "source": [
    "%%sql\n",
    "SELECT AGE AS below_average\n",
    "FROM Indian_all_2021\n",
    "WHERE VALUE < (\n",
    "    SELECT AVG(VALUE)\n",
    "    FROM Indian_all_2021)"
   ]
  },
  {
   "cell_type": "code",
   "execution_count": 9,
   "id": "3c12d10f-90e2-4b9a-af81-7abc4aea3754",
   "metadata": {},
   "outputs": [
    {
     "name": "stdout",
     "output_type": "stream",
     "text": [
      " * sqlite:///testdatabase.db\n",
      "Done.\n"
     ]
    },
    {
     "data": {
      "text/html": [
       "<table>\n",
       "    <tr>\n",
       "        <th>above_average</th>\n",
       "    </tr>\n",
       "    <tr>\n",
       "        <td>10 - 14 Years</td>\n",
       "    </tr>\n",
       "    <tr>\n",
       "        <td>15 - 19 Years</td>\n",
       "    </tr>\n",
       "    <tr>\n",
       "        <td>20 - 24 Years</td>\n",
       "    </tr>\n",
       "    <tr>\n",
       "        <td>25 - 29 Years</td>\n",
       "    </tr>\n",
       "    <tr>\n",
       "        <td>30 - 34 Years</td>\n",
       "    </tr>\n",
       "    <tr>\n",
       "        <td>35 - 39 Years</td>\n",
       "    </tr>\n",
       "    <tr>\n",
       "        <td>40 - 44 Years</td>\n",
       "    </tr>\n",
       "    <tr>\n",
       "        <td>45 - 49 Years</td>\n",
       "    </tr>\n",
       "    <tr>\n",
       "        <td>50 - 54 Years</td>\n",
       "    </tr>\n",
       "    <tr>\n",
       "        <td>55 - 59 Years</td>\n",
       "    </tr>\n",
       "    <tr>\n",
       "        <td>60 - 64 Years</td>\n",
       "    </tr>\n",
       "    <tr>\n",
       "        <td>65 - 69 Years</td>\n",
       "    </tr>\n",
       "    <tr>\n",
       "        <td>65 Years &amp; Over</td>\n",
       "    </tr>\n",
       "    <tr>\n",
       "        <td>70 Years &amp; Over</td>\n",
       "    </tr>\n",
       "</table>"
      ],
      "text/plain": [
       "[('10 - 14 Years',),\n",
       " ('15 - 19 Years',),\n",
       " ('20 - 24 Years',),\n",
       " ('25 - 29 Years',),\n",
       " ('30 - 34 Years',),\n",
       " ('35 - 39 Years',),\n",
       " ('40 - 44 Years',),\n",
       " ('45 - 49 Years',),\n",
       " ('50 - 54 Years',),\n",
       " ('55 - 59 Years',),\n",
       " ('60 - 64 Years',),\n",
       " ('65 - 69 Years',),\n",
       " ('65 Years & Over',),\n",
       " ('70 Years & Over',)]"
      ]
     },
     "execution_count": 9,
     "metadata": {},
     "output_type": "execute_result"
    }
   ],
   "source": [
    "%%sql\n",
    "SELECT AGE AS above_average\n",
    "FROM Indian_all_2021\n",
    "WHERE VALUE > (\n",
    "    SELECT AVG(VALUE)\n",
    "    FROM Indian_all_2021)"
   ]
  },
  {
   "cell_type": "markdown",
   "id": "aa03ed07-fe7a-4cb9-80b2-2e61bb872832",
   "metadata": {},
   "source": [
    "### g. Find the min and max numbers of the value range."
   ]
  },
  {
   "cell_type": "code",
   "execution_count": 10,
   "id": "0b9ff87e-808b-4784-a014-9dde6518274e",
   "metadata": {},
   "outputs": [
    {
     "name": "stdout",
     "output_type": "stream",
     "text": [
      " * sqlite:///testdatabase.db\n",
      "Done.\n"
     ]
    },
    {
     "data": {
      "text/html": [
       "<table>\n",
       "    <tr>\n",
       "        <th>max</th>\n",
       "        <th>min</th>\n",
       "    </tr>\n",
       "    <tr>\n",
       "        <td>34889</td>\n",
       "        <td>1255</td>\n",
       "    </tr>\n",
       "</table>"
      ],
      "text/plain": [
       "[(34889, 1255)]"
      ]
     },
     "execution_count": 10,
     "metadata": {},
     "output_type": "execute_result"
    }
   ],
   "source": [
    "%%sql\n",
    "SELECT MAX(VALUE) AS max, MIN(VALUE) AS min\n",
    "FROM Indian_all_2021\n"
   ]
  },
  {
   "cell_type": "markdown",
   "id": "d81ea87a-436a-459d-8b06-9e41b10b2738",
   "metadata": {},
   "source": [
    "### h. Call out the age groups associated to the min and max numbers of the value range"
   ]
  },
  {
   "cell_type": "code",
   "execution_count": 11,
   "id": "807d18a3-f0cc-4554-bef6-4d3b49a41804",
   "metadata": {},
   "outputs": [
    {
     "name": "stdout",
     "output_type": "stream",
     "text": [
      " * sqlite:///testdatabase.db\n",
      "Done.\n"
     ]
    },
    {
     "data": {
      "text/html": [
       "<table>\n",
       "    <tr>\n",
       "        <th>SMALLEST_GROUP</th>\n",
       "        <th>VALUE</th>\n",
       "    </tr>\n",
       "    <tr>\n",
       "        <td>90 Years &amp; Over</td>\n",
       "        <td>1255</td>\n",
       "    </tr>\n",
       "</table>"
      ],
      "text/plain": [
       "[('90 Years & Over', 1255)]"
      ]
     },
     "execution_count": 11,
     "metadata": {},
     "output_type": "execute_result"
    }
   ],
   "source": [
    "%%sql\n",
    "SELECT AGE AS SMALLEST_GROUP, VALUE\n",
    "FROM Indian_all_2021 \n",
    "WHERE VALUE = (SELECT MIN(VALUE)\n",
    "    FROM Indian_all_2021\n",
    "              )"
   ]
  },
  {
   "cell_type": "code",
   "execution_count": 12,
   "id": "99957a0b-2e03-4ac2-8ef6-fe8ecec0179f",
   "metadata": {},
   "outputs": [
    {
     "name": "stdout",
     "output_type": "stream",
     "text": [
      " * sqlite:///testdatabase.db\n",
      "Done.\n"
     ]
    },
    {
     "data": {
      "text/html": [
       "<table>\n",
       "    <tr>\n",
       "        <th>BIGGEST_GROUP</th>\n",
       "        <th>VALUE</th>\n",
       "    </tr>\n",
       "    <tr>\n",
       "        <td>65 Years &amp; Over</td>\n",
       "        <td>34889</td>\n",
       "    </tr>\n",
       "</table>"
      ],
      "text/plain": [
       "[('65 Years & Over', 34889)]"
      ]
     },
     "execution_count": 12,
     "metadata": {},
     "output_type": "execute_result"
    }
   ],
   "source": [
    "%%sql\n",
    "SELECT AGE AS BIGGEST_GROUP, VALUE\n",
    "FROM Indian_all_2021 \n",
    "WHERE VALUE = (SELECT MAX(VALUE)\n",
    "    FROM Indian_all_2021\n",
    "              )"
   ]
  }
 ],
 "metadata": {
  "kernelspec": {
   "display_name": "Python 3 (ipykernel)",
   "language": "python",
   "name": "python3"
  },
  "language_info": {
   "codemirror_mode": {
    "name": "ipython",
    "version": 3
   },
   "file_extension": ".py",
   "mimetype": "text/x-python",
   "name": "python",
   "nbconvert_exporter": "python",
   "pygments_lexer": "ipython3",
   "version": "3.10.6"
  }
 },
 "nbformat": 4,
 "nbformat_minor": 5
}
