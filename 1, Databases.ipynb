{
 "cells": [
  {
   "cell_type": "markdown",
   "id": "41a58c7e-9778-4f32-9846-f5be812c317c",
   "metadata": {},
   "source": [
    "# DATABASES\n",
    "----\n",
    "## OUTLINE:\n",
    "1. What is a database?\n",
    "2. Relational databases model vs Entity-relationship model\n",
    "3. SQL\n",
    "4. SQLite vs MySQL\n"
   ]
  },
  {
   "cell_type": "markdown",
   "id": "9bcc179b-f788-4114-ab7e-f8e67c6ebbbb",
   "metadata": {},
   "source": [
    "## 1. What is a database?"
   ]
  },
  {
   "cell_type": "markdown",
   "id": "e2feb604-563c-4fde-aa7e-d789b5ab38a5",
   "metadata": {},
   "source": [
    "- A database is a data storage designed for efficient storing, access and managing process of data.\n",
    "- A `database` is different from a `data lake` in the sense that:\n",
    "    - A database is designed to manage PROCESSED data following a pre-defined schema.\n",
    "    - A datalake is designed to store RAW data with no pre-defined schema.\n",
    "- A `schema` is a manifestation of structure and relationships within a database.\n",
    "- There are two types of databases, which are:\n",
    "    - Relational database management system (RDBMS), or so-called relational database:\n",
    "        - Store data in tables and columns\n",
    "        - Use SQL and relational models to manage data\n",
    "        - For instance: MySQL, SQLite,...\n",
    "    - Non-SQL database:\n",
    "        - Used to store less-structured data compared to RDBMS\n",
    "        - Used to store data such as documents, graphics, etc.\n",
    "        - For instance: MongoDB, TimescaleDB,...\n",
    "\n"
   ]
  },
  {
   "cell_type": "markdown",
   "id": "2ea9c7ba-014b-491a-9106-0ce61c76bac8",
   "metadata": {},
   "source": [
    "## 2. Relational database model:\n",
    "- Relational database model is a conceptual structure that defines the way a database store and manage its data.\n",
    "- Within Relational database model:\n",
    "    - data is stored in a table with `rows` representing `records` and `columns` representing `attributes`.\n",
    "    - Tables within a database are connected by `foreign keys` and `primary keys`.\n",
    "- **Primary key**:\n",
    "    - A primary key of a table is the column that consists of UNIQUE values (IDENTIFIERS). Hence, it is used to represent unique rows within a table.\n",
    "    - Each table only has one primary key.\n",
    "    - A primary key of a table can serve as a foreign key of another table\n",
    "- **Foreign key**:\n",
    "    - A foreign key is a column that does not NECESSARILY consist of unique values.\n",
    "    - There can be more than 1 foreign key in a relational database table."
   ]
  },
  {
   "cell_type": "markdown",
   "id": "8aed3ac4-f1aa-4478-b2bc-a79972c85dd3",
   "metadata": {},
   "source": [
    "![relational_model](https://www.researchgate.net/publication/237832917/figure/fig3/AS:650576538894339@1532120942870/Relational-model-design-of-the-database-On-a-conceptual-level-the-database-is.png)"
   ]
  },
  {
   "cell_type": "markdown",
   "id": "9ce78d71-6e7c-4481-bf5b-602aa5a7377d",
   "metadata": {},
   "source": [
    "## 3. Entity-relationship model:\n",
    "- Entity-relationship model is an alternate to Relational database model, which defines the stucture of how a database manages and stores its data.\n",
    "- Within Entity-relationship model:\n",
    "    - a table is represented as an Entity, illustrated as a rectangular.\n",
    "    - a column is represented as an oval.\n",
    "    \n",
    "    "
   ]
  },
  {
   "cell_type": "markdown",
   "id": "9350a9fc-b338-42d9-aa6d-5f375c8b5fd9",
   "metadata": {},
   "source": [
    "![entity_relationship](https://www.researchgate.net/publication/249998849/figure/fig5/AS:298327242493965@1448138165844/Entity-relationship-Model-for-Delegation.png)"
   ]
  },
  {
   "cell_type": "markdown",
   "id": "12929fac-77e0-471e-9282-5018cb5cb613",
   "metadata": {},
   "source": [
    "## 4. SQL:\n",
    "- SQL, or so-called Sequel, is a programming language devoted to working with relational databases. \n",
    "- Access [W3Schools](https://www.w3schools.com/sql/) for more details.\n",
    "- Access this [Github tutorial for SQL]()."
   ]
  },
  {
   "cell_type": "markdown",
   "id": "bf48f207-069e-477e-af00-62d721bfccd1",
   "metadata": {},
   "source": [
    "## 5. SQLite vs MySQL:\n",
    "- SQLite and MySQL are two of the most popular relational datbase systems.\n",
    "- Both are compatible with respective APIs allowing users to access to via Python environement."
   ]
  },
  {
   "cell_type": "markdown",
   "id": "e5ece2c1-4673-4478-af79-5a344aee4512",
   "metadata": {},
   "source": [
    "\n",
    "<table style = 'text-align: left; word-wrap:break-word;'>\n",
    "    <tr>\n",
    "        <th></th>\n",
    "        <th>SQLite</th>\n",
    "        <th>MySQL</th>\n",
    "    </tr>        \n",
    "    <tr>\n",
    "        <th> Properties</th> \n",
    "        <th> - SQLite lightweight serverless, file-based relational database system. <br>\n",
    "        - A SQLite database is stored in a single file on the user's device. <br>\n",
    "        - The system is typically embedded in local applications without separately installing it.   </th>\n",
    "        <th>- MySQL is a server-based relational database management system.<br>\n",
    "        - A MySQL database is located on the file system of the server machine.\n",
    "        - The system runs independently. \n",
    "            For <br>\n",
    "        For instance: mysql</th>\n",
    "    </tr>    \n",
    "    <tr>\n",
    "        <th>APIs</th>\n",
    "        <th>\n",
    "            - SQLite API is sqlite3, which is included as a standard module in Python. <br>\n",
    "        - Users can create and save a .db file using the sqlite3 module without registering to any server.</th>\n",
    "        <th>\n",
    "            - One of MySQL APIs is mysql-connector-python, which is a 3rd-party library. <br>\n",
    "            - To create and save a database using mysql-connector-python, users must priorily register to the MySQL server.\n",
    "        </th>\n",
    "    </tr>  \n",
    "    <tr>\n",
    "        <th>Best for:</th>\n",
    "        <th>- SQLite is an apt choice to create a single-user and lightweight databases.</th>\n",
    "        <th>- MySql is an apt choice to create multiple-user and high-concurrency databases. </th>\n",
    "           </tr>  \n",
    "      \n",
    "</table>    "
   ]
  }
 ],
 "metadata": {
  "kernelspec": {
   "display_name": "Python 3 (ipykernel)",
   "language": "python",
   "name": "python3"
  },
  "language_info": {
   "codemirror_mode": {
    "name": "ipython",
    "version": 3
   },
   "file_extension": ".py",
   "mimetype": "text/x-python",
   "name": "python",
   "nbconvert_exporter": "python",
   "pygments_lexer": "ipython3",
   "version": "3.10.6"
  }
 },
 "nbformat": 4,
 "nbformat_minor": 5
}
